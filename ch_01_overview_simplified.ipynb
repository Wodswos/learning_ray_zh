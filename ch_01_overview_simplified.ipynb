{
 "cells": [
  {
   "cell_type": "markdown",
   "id": "9427c8ef-a623-472b-a8f1-073f26fa681d",
   "metadata": {},
   "source": [
    "# 为什么使用 Ray？\n",
    "业务背景\n",
    "\n",
    "* 我们正在以不断增长的速度收集越来越多种类的数据，而在单机上处理这些数据是很困难的。\n",
    "* 围绕 Python 已经构建了一系列数据处理工具，构建了非常丰富的生态。\n",
    "\n",
    "因此，我们希望复用已有的丰富的 Python 生态，同时将数据作业拓展为分布式的形式而不需要操心具体的底层实现。\n",
    "\n",
    "而 Ray 恰好能提供这种能力，甚至可能是最好的选择。"
   ]
  },
  {
   "attachments": {},
   "cell_type": "markdown",
   "id": "d928c752-cae3-4140-a84d-866a3b9eaf3f",
   "metadata": {},
   "source": [
    "# 什么是 Ray？\n",
    "\n",
    "Ray 主要有两部分，Ray Core 和 Ray Libraries（在之前版本的官方文档中也称 Ray Air 或 Ray AI Runtime）：\n",
    "\n",
    "![map-of-ray.svg](images/map-of-ray.svg)\n",
    "\n",
    "Ray 和 Spark 的创始人 Ion Stoic 在访谈中对此也有过阐述：\n",
    "\n",
    "从根本上说，Ray Core 是一个 RPC 框架，加上一个 actor 框架，以及一个对象存储，它允许你在不同函数和 actor 之间通过引用高效传递数据。\n",
    "\n",
    "相较于 Spark，Ray 的层次要低得多。Spark 抽象和隐藏了并行，Ray 揭示和暴露了并行。开玩笑说，如果 Ray 能兑现我希望它能兑现的承诺，有人今天要重新开发一个 Spark，那他应该在 Ray 之上开发 Spark。\n",
    "\n",
    "但是对于人类来说，编写并行程序会比较困难，串行顺序思考会比较简单，这也是为什么需要 Ray Libraries 的原因，Ray 上的库正是用来抽象和隐藏并行性的。比如你使用 RLlib，你完全不需要知道底层的并行细节，也不需要担心那些细节，相关的强化学习作业就能工作得很好。"
   ]
  },
  {
   "cell_type": "markdown",
   "id": "76633c4c-fcc5-4608-adaf-a4527ab74e6e",
   "metadata": {},
   "source": [
    "# 如何使用 Ray\n",
    "\n",
    "安装 Ray"
   ]
  },
  {
   "cell_type": "code",
   "execution_count": 6,
   "id": "06c0f9c9-d0b6-408d-af00-595cd77b8437",
   "metadata": {},
   "outputs": [
    {
     "name": "stdout",
     "output_type": "stream",
     "text": [
      "Looking in indexes: https://pypi.tuna.tsinghua.edu.cn/simple\n",
      "Requirement already satisfied: ray[deault,rllib,serve,train,tune] in c:\\repos\\environment\\miniconda3\\envs\\ray\\lib\\site-packages (2.9.0)\n",
      "Requirement already satisfied: click>=7.0 in c:\\repos\\environment\\miniconda3\\envs\\ray\\lib\\site-packages (from ray[deault,rllib,serve,train,tune]) (8.1.7)\n",
      "Requirement already satisfied: filelock in c:\\repos\\environment\\miniconda3\\envs\\ray\\lib\\site-packages (from ray[deault,rllib,serve,train,tune]) (3.13.1)\n",
      "Requirement already satisfied: jsonschema in c:\\repos\\environment\\miniconda3\\envs\\ray\\lib\\site-packages (from ray[deault,rllib,serve,train,tune]) (4.20.0)\n",
      "Requirement already satisfied: msgpack<2.0.0,>=1.0.0 in c:\\repos\\environment\\miniconda3\\envs\\ray\\lib\\site-packages (from ray[deault,rllib,serve,train,tune]) (1.0.7)\n",
      "Requirement already satisfied: packaging in c:\\repos\\environment\\miniconda3\\envs\\ray\\lib\\site-packages (from ray[deault,rllib,serve,train,tune]) (23.2)\n",
      "Requirement already satisfied: protobuf!=3.19.5,>=3.15.3 in c:\\repos\\environment\\miniconda3\\envs\\ray\\lib\\site-packages (from ray[deault,rllib,serve,train,tune]) (4.25.2)\n",
      "Requirement already satisfied: pyyaml in c:\\repos\\environment\\miniconda3\\envs\\ray\\lib\\site-packages (from ray[deault,rllib,serve,train,tune]) (6.0.1)\n",
      "Requirement already satisfied: aiosignal in c:\\repos\\environment\\miniconda3\\envs\\ray\\lib\\site-packages (from ray[deault,rllib,serve,train,tune]) (1.3.1)\n",
      "Requirement already satisfied: frozenlist in c:\\repos\\environment\\miniconda3\\envs\\ray\\lib\\site-packages (from ray[deault,rllib,serve,train,tune]) (1.4.1)\n",
      "Requirement already satisfied: requests in c:\\repos\\environment\\miniconda3\\envs\\ray\\lib\\site-packages (from ray[deault,rllib,serve,train,tune]) (2.31.0)\n",
      "Requirement already satisfied: pandas in c:\\repos\\environment\\miniconda3\\envs\\ray\\lib\\site-packages (from ray[deault,rllib,serve,train,tune]) (2.1.4)\n",
      "Requirement already satisfied: tensorboardX>=1.9 in c:\\repos\\environment\\miniconda3\\envs\\ray\\lib\\site-packages (from ray[deault,rllib,serve,train,tune]) (2.6.2.2)\n",
      "Requirement already satisfied: pyarrow<7.0.0,>=6.0.1 in c:\\repos\\environment\\miniconda3\\envs\\ray\\lib\\site-packages (from ray[deault,rllib,serve,train,tune]) (6.0.1)\n",
      "Requirement already satisfied: fsspec in c:\\repos\\environment\\miniconda3\\envs\\ray\\lib\\site-packages (from ray[deault,rllib,serve,train,tune]) (2023.12.2)\n",
      "Requirement already satisfied: dm-tree in c:\\repos\\environment\\miniconda3\\envs\\ray\\lib\\site-packages (from ray[deault,rllib,serve,train,tune]) (0.1.8)\n",
      "Requirement already satisfied: gymnasium==0.28.1 in c:\\repos\\environment\\miniconda3\\envs\\ray\\lib\\site-packages (from ray[deault,rllib,serve,train,tune]) (0.28.1)\n",
      "Requirement already satisfied: lz4 in c:\\repos\\environment\\miniconda3\\envs\\ray\\lib\\site-packages (from ray[deault,rllib,serve,train,tune]) (4.3.3)\n",
      "Requirement already satisfied: scikit-image in c:\\repos\\environment\\miniconda3\\envs\\ray\\lib\\site-packages (from ray[deault,rllib,serve,train,tune]) (0.22.0)\n",
      "Requirement already satisfied: scipy in c:\\repos\\environment\\miniconda3\\envs\\ray\\lib\\site-packages (from ray[deault,rllib,serve,train,tune]) (1.11.4)\n",
      "Requirement already satisfied: typer in c:\\repos\\environment\\miniconda3\\envs\\ray\\lib\\site-packages (from ray[deault,rllib,serve,train,tune]) (0.9.0)\n",
      "Requirement already satisfied: rich in c:\\repos\\environment\\miniconda3\\envs\\ray\\lib\\site-packages (from ray[deault,rllib,serve,train,tune]) (13.7.0)\n",
      "Requirement already satisfied: starlette in c:\\repos\\environment\\miniconda3\\envs\\ray\\lib\\site-packages (from ray[deault,rllib,serve,train,tune]) (0.35.1)\n",
      "Requirement already satisfied: aiohttp-cors in c:\\repos\\environment\\miniconda3\\envs\\ray\\lib\\site-packages (from ray[deault,rllib,serve,train,tune]) (0.7.0)\n",
      "Requirement already satisfied: py-spy>=0.2.0 in c:\\repos\\environment\\miniconda3\\envs\\ray\\lib\\site-packages (from ray[deault,rllib,serve,train,tune]) (0.3.14)\n",
      "Requirement already satisfied: aiohttp>=3.7 in c:\\repos\\environment\\miniconda3\\envs\\ray\\lib\\site-packages (from ray[deault,rllib,serve,train,tune]) (3.9.1)\n",
      "Requirement already satisfied: colorful in c:\\repos\\environment\\miniconda3\\envs\\ray\\lib\\site-packages (from ray[deault,rllib,serve,train,tune]) (0.5.6)\n",
      "Requirement already satisfied: fastapi in c:\\repos\\environment\\miniconda3\\envs\\ray\\lib\\site-packages (from ray[deault,rllib,serve,train,tune]) (0.109.0)\n",
      "Requirement already satisfied: smart-open in c:\\repos\\environment\\miniconda3\\envs\\ray\\lib\\site-packages (from ray[deault,rllib,serve,train,tune]) (6.4.0)\n",
      "Requirement already satisfied: aiorwlock in c:\\repos\\environment\\miniconda3\\envs\\ray\\lib\\site-packages (from ray[deault,rllib,serve,train,tune]) (1.3.0)\n",
      "Requirement already satisfied: prometheus-client>=0.7.1 in c:\\repos\\environment\\miniconda3\\envs\\ray\\lib\\site-packages (from ray[deault,rllib,serve,train,tune]) (0.19.0)\n",
      "Requirement already satisfied: opencensus in c:\\repos\\environment\\miniconda3\\envs\\ray\\lib\\site-packages (from ray[deault,rllib,serve,train,tune]) (0.11.4)\n",
      "Requirement already satisfied: uvicorn[standard] in c:\\repos\\environment\\miniconda3\\envs\\ray\\lib\\site-packages (from ray[deault,rllib,serve,train,tune]) (0.25.0)\n",
      "Requirement already satisfied: virtualenv<20.21.1,>=20.0.24 in c:\\repos\\environment\\miniconda3\\envs\\ray\\lib\\site-packages (from ray[deault,rllib,serve,train,tune]) (20.21.0)\n",
      "Requirement already satisfied: pydantic!=2.0.*,!=2.1.*,!=2.2.*,!=2.3.*,!=2.4.*,<3 in c:\\repos\\environment\\miniconda3\\envs\\ray\\lib\\site-packages (from ray[deault,rllib,serve,train,tune]) (2.5.3)\n",
      "Requirement already satisfied: watchfiles in c:\\repos\\environment\\miniconda3\\envs\\ray\\lib\\site-packages (from ray[deault,rllib,serve,train,tune]) (0.21.0)\n",
      "Requirement already satisfied: gpustat>=1.0.0 in c:\\repos\\environment\\miniconda3\\envs\\ray\\lib\\site-packages (from ray[deault,rllib,serve,train,tune]) (1.1.1)\n",
      "Requirement already satisfied: grpcio>=1.32.0 in c:\\repos\\environment\\miniconda3\\envs\\ray\\lib\\site-packages (from ray[deault,rllib,serve,train,tune]) (1.60.0)\n",
      "Requirement already satisfied: numpy>=1.21.0 in c:\\repos\\environment\\miniconda3\\envs\\ray\\lib\\site-packages (from gymnasium==0.28.1->ray[deault,rllib,serve,train,tune]) (1.26.3)\n",
      "Requirement already satisfied: jax-jumpy>=1.0.0 in c:\\repos\\environment\\miniconda3\\envs\\ray\\lib\\site-packages (from gymnasium==0.28.1->ray[deault,rllib,serve,train,tune]) (1.0.0)\n",
      "Requirement already satisfied: cloudpickle>=1.2.0 in c:\\repos\\environment\\miniconda3\\envs\\ray\\lib\\site-packages (from gymnasium==0.28.1->ray[deault,rllib,serve,train,tune]) (3.0.0)\n",
      "Requirement already satisfied: typing-extensions>=4.3.0 in c:\\repos\\environment\\miniconda3\\envs\\ray\\lib\\site-packages (from gymnasium==0.28.1->ray[deault,rllib,serve,train,tune]) (4.9.0)\n",
      "Requirement already satisfied: farama-notifications>=0.0.1 in c:\\repos\\environment\\miniconda3\\envs\\ray\\lib\\site-packages (from gymnasium==0.28.1->ray[deault,rllib,serve,train,tune]) (0.0.4)\n",
      "Requirement already satisfied: importlib-metadata>=4.8.0 in c:\\repos\\environment\\miniconda3\\envs\\ray\\lib\\site-packages (from gymnasium==0.28.1->ray[deault,rllib,serve,train,tune]) (7.0.1)\n",
      "Requirement already satisfied: attrs>=17.3.0 in c:\\repos\\environment\\miniconda3\\envs\\ray\\lib\\site-packages (from aiohttp>=3.7->ray[deault,rllib,serve,train,tune]) (23.2.0)\n",
      "Requirement already satisfied: multidict<7.0,>=4.5 in c:\\repos\\environment\\miniconda3\\envs\\ray\\lib\\site-packages (from aiohttp>=3.7->ray[deault,rllib,serve,train,tune]) (6.0.4)\n",
      "Requirement already satisfied: yarl<2.0,>=1.0 in c:\\repos\\environment\\miniconda3\\envs\\ray\\lib\\site-packages (from aiohttp>=3.7->ray[deault,rllib,serve,train,tune]) (1.9.4)\n",
      "Requirement already satisfied: async-timeout<5.0,>=4.0 in c:\\repos\\environment\\miniconda3\\envs\\ray\\lib\\site-packages (from aiohttp>=3.7->ray[deault,rllib,serve,train,tune]) (4.0.3)\n",
      "Requirement already satisfied: colorama in c:\\repos\\environment\\miniconda3\\envs\\ray\\lib\\site-packages (from click>=7.0->ray[deault,rllib,serve,train,tune]) (0.4.6)\n",
      "Requirement already satisfied: nvidia-ml-py>=11.450.129 in c:\\repos\\environment\\miniconda3\\envs\\ray\\lib\\site-packages (from gpustat>=1.0.0->ray[deault,rllib,serve,train,tune]) (12.535.133)\n",
      "Requirement already satisfied: psutil>=5.6.0 in c:\\repos\\environment\\miniconda3\\envs\\ray\\lib\\site-packages (from gpustat>=1.0.0->ray[deault,rllib,serve,train,tune]) (5.9.7)\n",
      "Requirement already satisfied: blessed>=1.17.1 in c:\\repos\\environment\\miniconda3\\envs\\ray\\lib\\site-packages (from gpustat>=1.0.0->ray[deault,rllib,serve,train,tune]) (1.20.0)\n",
      "Requirement already satisfied: annotated-types>=0.4.0 in c:\\repos\\environment\\miniconda3\\envs\\ray\\lib\\site-packages (from pydantic!=2.0.*,!=2.1.*,!=2.2.*,!=2.3.*,!=2.4.*,<3->ray[deault,rllib,serve,train,tune]) (0.6.0)\n",
      "Requirement already satisfied: pydantic-core==2.14.6 in c:\\repos\\environment\\miniconda3\\envs\\ray\\lib\\site-packages (from pydantic!=2.0.*,!=2.1.*,!=2.2.*,!=2.3.*,!=2.4.*,<3->ray[deault,rllib,serve,train,tune]) (2.14.6)\n",
      "Requirement already satisfied: distlib<1,>=0.3.6 in c:\\repos\\environment\\miniconda3\\envs\\ray\\lib\\site-packages (from virtualenv<20.21.1,>=20.0.24->ray[deault,rllib,serve,train,tune]) (0.3.8)\n",
      "Requirement already satisfied: platformdirs<4,>=2.4 in c:\\repos\\environment\\miniconda3\\envs\\ray\\lib\\site-packages (from virtualenv<20.21.1,>=20.0.24->ray[deault,rllib,serve,train,tune]) (3.11.0)\n",
      "Requirement already satisfied: anyio<5,>=3.4.0 in c:\\repos\\environment\\miniconda3\\envs\\ray\\lib\\site-packages (from starlette->ray[deault,rllib,serve,train,tune]) (4.2.0)\n",
      "Requirement already satisfied: jsonschema-specifications>=2023.03.6 in c:\\repos\\environment\\miniconda3\\envs\\ray\\lib\\site-packages (from jsonschema->ray[deault,rllib,serve,train,tune]) (2023.12.1)\n",
      "Requirement already satisfied: referencing>=0.28.4 in c:\\repos\\environment\\miniconda3\\envs\\ray\\lib\\site-packages (from jsonschema->ray[deault,rllib,serve,train,tune]) (0.32.1)\n",
      "Requirement already satisfied: rpds-py>=0.7.1 in c:\\repos\\environment\\miniconda3\\envs\\ray\\lib\\site-packages (from jsonschema->ray[deault,rllib,serve,train,tune]) (0.17.1)\n",
      "Requirement already satisfied: opencensus-context>=0.1.3 in c:\\repos\\environment\\miniconda3\\envs\\ray\\lib\\site-packages (from opencensus->ray[deault,rllib,serve,train,tune]) (0.1.3)\n",
      "Requirement already satisfied: six~=1.16 in c:\\repos\\environment\\miniconda3\\envs\\ray\\lib\\site-packages (from opencensus->ray[deault,rllib,serve,train,tune]) (1.16.0)\n",
      "Requirement already satisfied: google-api-core<3.0.0,>=1.0.0 in c:\\repos\\environment\\miniconda3\\envs\\ray\\lib\\site-packages (from opencensus->ray[deault,rllib,serve,train,tune]) (2.15.0)\n",
      "Requirement already satisfied: python-dateutil>=2.8.2 in c:\\repos\\environment\\miniconda3\\envs\\ray\\lib\\site-packages (from pandas->ray[deault,rllib,serve,train,tune]) (2.8.2)\n",
      "Requirement already satisfied: pytz>=2020.1 in c:\\repos\\environment\\miniconda3\\envs\\ray\\lib\\site-packages (from pandas->ray[deault,rllib,serve,train,tune]) (2023.3.post1)\n",
      "Requirement already satisfied: tzdata>=2022.1 in c:\\repos\\environment\\miniconda3\\envs\\ray\\lib\\site-packages (from pandas->ray[deault,rllib,serve,train,tune]) (2023.4)\n",
      "Requirement already satisfied: charset-normalizer<4,>=2 in c:\\repos\\environment\\miniconda3\\envs\\ray\\lib\\site-packages (from requests->ray[deault,rllib,serve,train,tune]) (3.3.2)\n",
      "Requirement already satisfied: idna<4,>=2.5 in c:\\repos\\environment\\miniconda3\\envs\\ray\\lib\\site-packages (from requests->ray[deault,rllib,serve,train,tune]) (3.6)\n",
      "Requirement already satisfied: urllib3<3,>=1.21.1 in c:\\repos\\environment\\miniconda3\\envs\\ray\\lib\\site-packages (from requests->ray[deault,rllib,serve,train,tune]) (2.1.0)\n",
      "Requirement already satisfied: certifi>=2017.4.17 in c:\\repos\\environment\\miniconda3\\envs\\ray\\lib\\site-packages (from requests->ray[deault,rllib,serve,train,tune]) (2023.11.17)\n",
      "Requirement already satisfied: markdown-it-py>=2.2.0 in c:\\repos\\environment\\miniconda3\\envs\\ray\\lib\\site-packages (from rich->ray[deault,rllib,serve,train,tune]) (3.0.0)\n",
      "Requirement already satisfied: pygments<3.0.0,>=2.13.0 in c:\\repos\\environment\\miniconda3\\envs\\ray\\lib\\site-packages (from rich->ray[deault,rllib,serve,train,tune]) (2.17.2)\n",
      "Requirement already satisfied: networkx>=2.8 in c:\\repos\\environment\\miniconda3\\envs\\ray\\lib\\site-packages (from scikit-image->ray[deault,rllib,serve,train,tune]) (3.2.1)\n",
      "Requirement already satisfied: pillow>=9.0.1 in c:\\repos\\environment\\miniconda3\\envs\\ray\\lib\\site-packages (from scikit-image->ray[deault,rllib,serve,train,tune]) (10.2.0)\n",
      "Requirement already satisfied: imageio>=2.27 in c:\\repos\\environment\\miniconda3\\envs\\ray\\lib\\site-packages (from scikit-image->ray[deault,rllib,serve,train,tune]) (2.33.1)\n",
      "Requirement already satisfied: tifffile>=2022.8.12 in c:\\repos\\environment\\miniconda3\\envs\\ray\\lib\\site-packages (from scikit-image->ray[deault,rllib,serve,train,tune]) (2023.12.9)\n",
      "Requirement already satisfied: lazy_loader>=0.3 in c:\\repos\\environment\\miniconda3\\envs\\ray\\lib\\site-packages (from scikit-image->ray[deault,rllib,serve,train,tune]) (0.3)\n",
      "Requirement already satisfied: h11>=0.8 in c:\\repos\\environment\\miniconda3\\envs\\ray\\lib\\site-packages (from uvicorn[standard]; extra == \"serve\"->ray[deault,rllib,serve,train,tune]) (0.14.0)\n",
      "Requirement already satisfied: httptools>=0.5.0 in c:\\repos\\environment\\miniconda3\\envs\\ray\\lib\\site-packages (from uvicorn[standard]; extra == \"serve\"->ray[deault,rllib,serve,train,tune]) (0.6.1)\n",
      "Requirement already satisfied: python-dotenv>=0.13 in c:\\repos\\environment\\miniconda3\\envs\\ray\\lib\\site-packages (from uvicorn[standard]; extra == \"serve\"->ray[deault,rllib,serve,train,tune]) (1.0.0)\n",
      "Requirement already satisfied: websockets>=10.4 in c:\\repos\\environment\\miniconda3\\envs\\ray\\lib\\site-packages (from uvicorn[standard]; extra == \"serve\"->ray[deault,rllib,serve,train,tune]) (12.0)\n",
      "Requirement already satisfied: sniffio>=1.1 in c:\\repos\\environment\\miniconda3\\envs\\ray\\lib\\site-packages (from anyio<5,>=3.4.0->starlette->ray[deault,rllib,serve,train,tune]) (1.3.0)\n",
      "Requirement already satisfied: exceptiongroup>=1.0.2 in c:\\repos\\environment\\miniconda3\\envs\\ray\\lib\\site-packages (from anyio<5,>=3.4.0->starlette->ray[deault,rllib,serve,train,tune]) (1.2.0)\n",
      "Requirement already satisfied: wcwidth>=0.1.4 in c:\\repos\\environment\\miniconda3\\envs\\ray\\lib\\site-packages (from blessed>=1.17.1->gpustat>=1.0.0->ray[deault,rllib,serve,train,tune]) (0.2.13)\n",
      "Requirement already satisfied: jinxed>=1.1.0 in c:\\repos\\environment\\miniconda3\\envs\\ray\\lib\\site-packages (from blessed>=1.17.1->gpustat>=1.0.0->ray[deault,rllib,serve,train,tune]) (1.2.1)\n",
      "Requirement already satisfied: googleapis-common-protos<2.0.dev0,>=1.56.2 in c:\\repos\\environment\\miniconda3\\envs\\ray\\lib\\site-packages (from google-api-core<3.0.0,>=1.0.0->opencensus->ray[deault,rllib,serve,train,tune]) (1.62.0)\n",
      "Requirement already satisfied: google-auth<3.0.dev0,>=2.14.1 in c:\\repos\\environment\\miniconda3\\envs\\ray\\lib\\site-packages (from google-api-core<3.0.0,>=1.0.0->opencensus->ray[deault,rllib,serve,train,tune]) (2.26.2)\n",
      "Requirement already satisfied: zipp>=0.5 in c:\\repos\\environment\\miniconda3\\envs\\ray\\lib\\site-packages (from importlib-metadata>=4.8.0->gymnasium==0.28.1->ray[deault,rllib,serve,train,tune]) (3.17.0)\n",
      "Requirement already satisfied: mdurl~=0.1 in c:\\repos\\environment\\miniconda3\\envs\\ray\\lib\\site-packages (from markdown-it-py>=2.2.0->rich->ray[deault,rllib,serve,train,tune]) (0.1.2)\n",
      "Requirement already satisfied: cachetools<6.0,>=2.0.0 in c:\\repos\\environment\\miniconda3\\envs\\ray\\lib\\site-packages (from google-auth<3.0.dev0,>=2.14.1->google-api-core<3.0.0,>=1.0.0->opencensus->ray[deault,rllib,serve,train,tune]) (5.3.2)\n",
      "Requirement already satisfied: pyasn1-modules>=0.2.1 in c:\\repos\\environment\\miniconda3\\envs\\ray\\lib\\site-packages (from google-auth<3.0.dev0,>=2.14.1->google-api-core<3.0.0,>=1.0.0->opencensus->ray[deault,rllib,serve,train,tune]) (0.3.0)\n",
      "Requirement already satisfied: rsa<5,>=3.1.4 in c:\\repos\\environment\\miniconda3\\envs\\ray\\lib\\site-packages (from google-auth<3.0.dev0,>=2.14.1->google-api-core<3.0.0,>=1.0.0->opencensus->ray[deault,rllib,serve,train,tune]) (4.9)\n",
      "Requirement already satisfied: ansicon in c:\\repos\\environment\\miniconda3\\envs\\ray\\lib\\site-packages (from jinxed>=1.1.0->blessed>=1.17.1->gpustat>=1.0.0->ray[deault,rllib,serve,train,tune]) (1.89.0)\n",
      "Requirement already satisfied: pyasn1<0.6.0,>=0.4.6 in c:\\repos\\environment\\miniconda3\\envs\\ray\\lib\\site-packages (from pyasn1-modules>=0.2.1->google-auth<3.0.dev0,>=2.14.1->google-api-core<3.0.0,>=1.0.0->opencensus->ray[deault,rllib,serve,train,tune]) (0.5.1)\n"
     ]
    },
    {
     "name": "stderr",
     "output_type": "stream",
     "text": [
      "WARNING: ray 2.9.0 does not provide the extra 'deault'\n"
     ]
    },
    {
     "name": "stdout",
     "output_type": "stream",
     "text": [
      "Looking in indexes: https://pypi.tuna.tsinghua.edu.cn/simple\n",
      "Requirement already satisfied: transformers==4.30.2 in c:\\repos\\environment\\miniconda3\\envs\\ray\\lib\\site-packages (4.30.2)\n",
      "Requirement already satisfied: filelock in c:\\repos\\environment\\miniconda3\\envs\\ray\\lib\\site-packages (from transformers==4.30.2) (3.13.1)\n",
      "Requirement already satisfied: huggingface-hub<1.0,>=0.14.1 in c:\\repos\\environment\\miniconda3\\envs\\ray\\lib\\site-packages (from transformers==4.30.2) (0.20.2)\n",
      "Requirement already satisfied: numpy>=1.17 in c:\\repos\\environment\\miniconda3\\envs\\ray\\lib\\site-packages (from transformers==4.30.2) (1.26.3)\n",
      "Requirement already satisfied: packaging>=20.0 in c:\\repos\\environment\\miniconda3\\envs\\ray\\lib\\site-packages (from transformers==4.30.2) (23.2)\n",
      "Requirement already satisfied: pyyaml>=5.1 in c:\\repos\\environment\\miniconda3\\envs\\ray\\lib\\site-packages (from transformers==4.30.2) (6.0.1)\n",
      "Requirement already satisfied: regex!=2019.12.17 in c:\\repos\\environment\\miniconda3\\envs\\ray\\lib\\site-packages (from transformers==4.30.2) (2023.12.25)\n",
      "Requirement already satisfied: requests in c:\\repos\\environment\\miniconda3\\envs\\ray\\lib\\site-packages (from transformers==4.30.2) (2.31.0)\n",
      "Requirement already satisfied: tokenizers!=0.11.3,<0.14,>=0.11.1 in c:\\repos\\environment\\miniconda3\\envs\\ray\\lib\\site-packages (from transformers==4.30.2) (0.13.3)\n",
      "Requirement already satisfied: safetensors>=0.3.1 in c:\\repos\\environment\\miniconda3\\envs\\ray\\lib\\site-packages (from transformers==4.30.2) (0.4.1)\n",
      "Requirement already satisfied: tqdm>=4.27 in c:\\repos\\environment\\miniconda3\\envs\\ray\\lib\\site-packages (from transformers==4.30.2) (4.66.1)\n",
      "Requirement already satisfied: fsspec>=2023.5.0 in c:\\repos\\environment\\miniconda3\\envs\\ray\\lib\\site-packages (from huggingface-hub<1.0,>=0.14.1->transformers==4.30.2) (2023.12.2)\n",
      "Requirement already satisfied: typing-extensions>=3.7.4.3 in c:\\repos\\environment\\miniconda3\\envs\\ray\\lib\\site-packages (from huggingface-hub<1.0,>=0.14.1->transformers==4.30.2) (4.9.0)\n",
      "Requirement already satisfied: colorama in c:\\repos\\environment\\miniconda3\\envs\\ray\\lib\\site-packages (from tqdm>=4.27->transformers==4.30.2) (0.4.6)\n",
      "Requirement already satisfied: charset-normalizer<4,>=2 in c:\\repos\\environment\\miniconda3\\envs\\ray\\lib\\site-packages (from requests->transformers==4.30.2) (3.3.2)\n",
      "Requirement already satisfied: idna<4,>=2.5 in c:\\repos\\environment\\miniconda3\\envs\\ray\\lib\\site-packages (from requests->transformers==4.30.2) (3.6)\n",
      "Requirement already satisfied: urllib3<3,>=1.21.1 in c:\\repos\\environment\\miniconda3\\envs\\ray\\lib\\site-packages (from requests->transformers==4.30.2) (2.1.0)\n",
      "Requirement already satisfied: certifi>=2017.4.17 in c:\\repos\\environment\\miniconda3\\envs\\ray\\lib\\site-packages (from requests->transformers==4.30.2) (2023.11.17)\n"
     ]
    }
   ],
   "source": [
    "! pip install \"ray[deault, train, rllib, serve, tune]\"\n",
    "! pip install \"transformers==4.30.2\""
   ]
  },
  {
   "cell_type": "code",
   "execution_count": 2,
   "id": "e8bbeb99-6ce7-4c0a-8ed9-08a830367179",
   "metadata": {},
   "outputs": [
    {
     "name": "stderr",
     "output_type": "stream",
     "text": [
      "2024-01-15 14:04:05,535\tINFO worker.py:1715 -- Started a local Ray instance. View the dashboard at \u001b[1m\u001b[32m127.0.0.1:8265 \u001b[39m\u001b[22m\n"
     ]
    },
    {
     "data": {
      "application/vnd.jupyter.widget-view+json": {
       "model_id": "3a9e6bdec1b54a96bff07272a3a780bc",
       "version_major": 2,
       "version_minor": 0
      },
      "text/html": [
       "<div class=\"lm-Widget p-Widget lm-Panel p-Panel jp-Cell-outputWrapper\">\n",
       "    <div style=\"margin-left: 50px;display: flex;flex-direction: row;align-items: center\">\n",
       "        <div class=\"jp-RenderedHTMLCommon\" style=\"display: flex; flex-direction: row;\">\n",
       "  <svg viewBox=\"0 0 567 224\" fill=\"none\" xmlns=\"http://www.w3.org/2000/svg\" style=\"height: 3em;\">\n",
       "    <g clip-path=\"url(#clip0_4338_178347)\">\n",
       "        <path d=\"M341.29 165.561H355.29L330.13 129.051C345.63 123.991 354.21 112.051 354.21 94.2307C354.21 71.3707 338.72 58.1807 311.88 58.1807H271V165.561H283.27V131.661H311.8C314.25 131.661 316.71 131.501 319.01 131.351L341.25 165.561H341.29ZM283.29 119.851V70.0007H311.82C331.3 70.0007 342.34 78.2907 342.34 94.5507C342.34 111.271 331.34 119.861 311.82 119.861L283.29 119.851ZM451.4 138.411L463.4 165.561H476.74L428.74 58.1807H416L367.83 165.561H380.83L392.83 138.411H451.4ZM446.19 126.601H398L422 72.1407L446.24 126.601H446.19ZM526.11 128.741L566.91 58.1807H554.35L519.99 114.181L485.17 58.1807H472.44L514.01 129.181V165.541H526.13V128.741H526.11Z\" fill=\"var(--jp-ui-font-color0)\"/>\n",
       "        <path d=\"M82.35 104.44C84.0187 97.8827 87.8248 92.0678 93.1671 87.9146C98.5094 83.7614 105.083 81.5067 111.85 81.5067C118.617 81.5067 125.191 83.7614 130.533 87.9146C135.875 92.0678 139.681 97.8827 141.35 104.44H163.75C164.476 101.562 165.622 98.8057 167.15 96.2605L127.45 56.5605C121.071 60.3522 113.526 61.6823 106.235 60.3005C98.9443 58.9187 92.4094 54.9203 87.8602 49.0574C83.3109 43.1946 81.0609 35.8714 81.5332 28.4656C82.0056 21.0599 85.1679 14.0819 90.4252 8.8446C95.6824 3.60726 102.672 0.471508 110.08 0.0272655C117.487 -0.416977 124.802 1.86091 130.647 6.4324C136.493 11.0039 140.467 17.5539 141.821 24.8501C143.175 32.1463 141.816 39.6859 138 46.0505L177.69 85.7505C182.31 82.9877 187.58 81.4995 192.962 81.4375C198.345 81.3755 203.648 82.742 208.33 85.3976C213.012 88.0532 216.907 91.9029 219.616 96.5544C222.326 101.206 223.753 106.492 223.753 111.875C223.753 117.258 222.326 122.545 219.616 127.197C216.907 131.848 213.012 135.698 208.33 138.353C203.648 141.009 198.345 142.375 192.962 142.313C187.58 142.251 182.31 140.763 177.69 138L138 177.7C141.808 184.071 143.155 191.614 141.79 198.91C140.424 206.205 136.44 212.75 130.585 217.313C124.731 221.875 117.412 224.141 110.004 223.683C102.596 223.226 95.6103 220.077 90.3621 214.828C85.1139 209.58 81.9647 202.595 81.5072 195.187C81.0497 187.779 83.3154 180.459 87.878 174.605C92.4405 168.751 98.9853 164.766 106.281 163.401C113.576 162.035 121.119 163.383 127.49 167.19L167.19 127.49C165.664 124.941 164.518 122.182 163.79 119.3H141.39C139.721 125.858 135.915 131.673 130.573 135.826C125.231 139.98 118.657 142.234 111.89 142.234C105.123 142.234 98.5494 139.98 93.2071 135.826C87.8648 131.673 84.0587 125.858 82.39 119.3H60C58.1878 126.495 53.8086 132.78 47.6863 136.971C41.5641 141.163 34.1211 142.972 26.7579 142.059C19.3947 141.146 12.6191 137.574 7.70605 132.014C2.79302 126.454 0.0813599 119.29 0.0813599 111.87C0.0813599 104.451 2.79302 97.2871 7.70605 91.7272C12.6191 86.1673 19.3947 82.5947 26.7579 81.6817C34.1211 80.7686 41.5641 82.5781 47.6863 86.7696C53.8086 90.9611 58.1878 97.2456 60 104.44H82.35ZM100.86 204.32C103.407 206.868 106.759 208.453 110.345 208.806C113.93 209.159 117.527 208.258 120.522 206.256C123.517 204.254 125.725 201.276 126.771 197.828C127.816 194.38 127.633 190.677 126.253 187.349C124.874 184.021 122.383 181.274 119.205 179.577C116.027 177.88 112.359 177.337 108.826 178.042C105.293 178.746 102.113 180.654 99.8291 183.44C97.5451 186.226 96.2979 189.718 96.3 193.32C96.2985 195.364 96.7006 197.388 97.4831 199.275C98.2656 201.163 99.4132 202.877 100.86 204.32ZM204.32 122.88C206.868 120.333 208.453 116.981 208.806 113.396C209.159 109.811 208.258 106.214 206.256 103.219C204.254 100.223 201.275 98.0151 197.827 96.97C194.38 95.9249 190.676 96.1077 187.348 97.4873C184.02 98.8669 181.274 101.358 179.577 104.536C177.879 107.714 177.337 111.382 178.041 114.915C178.746 118.448 180.653 121.627 183.439 123.911C186.226 126.195 189.717 127.443 193.32 127.44C195.364 127.443 197.388 127.042 199.275 126.259C201.163 125.476 202.878 124.328 204.32 122.88ZM122.88 19.4205C120.333 16.8729 116.981 15.2876 113.395 14.9347C109.81 14.5817 106.213 15.483 103.218 17.4849C100.223 19.4868 98.0146 22.4654 96.9696 25.9131C95.9245 29.3608 96.1073 33.0642 97.4869 36.3922C98.8665 39.7202 101.358 42.4668 104.535 44.1639C107.713 45.861 111.381 46.4036 114.914 45.6992C118.447 44.9949 121.627 43.0871 123.911 40.301C126.195 37.515 127.442 34.0231 127.44 30.4205C127.44 28.3772 127.038 26.3539 126.255 24.4664C125.473 22.5788 124.326 20.8642 122.88 19.4205ZM19.42 100.86C16.8725 103.408 15.2872 106.76 14.9342 110.345C14.5813 113.93 15.4826 117.527 17.4844 120.522C19.4863 123.518 22.4649 125.726 25.9127 126.771C29.3604 127.816 33.0638 127.633 36.3918 126.254C39.7198 124.874 42.4664 122.383 44.1635 119.205C45.8606 116.027 46.4032 112.359 45.6988 108.826C44.9944 105.293 43.0866 102.114 40.3006 99.8296C37.5145 97.5455 34.0227 96.2983 30.42 96.3005C26.2938 96.3018 22.337 97.9421 19.42 100.86ZM100.86 100.86C98.3125 103.408 96.7272 106.76 96.3742 110.345C96.0213 113.93 96.9226 117.527 98.9244 120.522C100.926 123.518 103.905 125.726 107.353 126.771C110.8 127.816 114.504 127.633 117.832 126.254C121.16 124.874 123.906 122.383 125.604 119.205C127.301 116.027 127.843 112.359 127.139 108.826C126.434 105.293 124.527 102.114 121.741 99.8296C118.955 97.5455 115.463 96.2983 111.86 96.3005C109.817 96.299 107.793 96.701 105.905 97.4835C104.018 98.2661 102.303 99.4136 100.86 100.86Z\" fill=\"#00AEEF\"/>\n",
       "    </g>\n",
       "    <defs>\n",
       "        <clipPath id=\"clip0_4338_178347\">\n",
       "            <rect width=\"566.93\" height=\"223.75\" fill=\"white\"/>\n",
       "        </clipPath>\n",
       "    </defs>\n",
       "  </svg>\n",
       "</div>\n",
       "\n",
       "        <table class=\"jp-RenderedHTMLCommon\" style=\"border-collapse: collapse;color: var(--jp-ui-font-color1);font-size: var(--jp-ui-font-size1);\">\n",
       "    <tr>\n",
       "        <td style=\"text-align: left\"><b>Python version:</b></td>\n",
       "        <td style=\"text-align: left\"><b>3.9.18</b></td>\n",
       "    </tr>\n",
       "    <tr>\n",
       "        <td style=\"text-align: left\"><b>Ray version:</b></td>\n",
       "        <td style=\"text-align: left\"><b>2.9.0</b></td>\n",
       "    </tr>\n",
       "    <tr>\n",
       "    <td style=\"text-align: left\"><b>Dashboard:</b></td>\n",
       "    <td style=\"text-align: left\"><b><a href=\"http://127.0.0.1:8265\" target=\"_blank\">http://127.0.0.1:8265</a></b></td>\n",
       "</tr>\n",
       "\n",
       "</table>\n",
       "\n",
       "    </div>\n",
       "</div>\n"
      ],
      "text/plain": [
       "RayContext(dashboard_url='127.0.0.1:8265', python_version='3.9.18', ray_version='2.9.0', ray_commit='9be5a16e3ccad0710bba08d0f75e9ff774ae6880', protocol_version=None)"
      ]
     },
     "execution_count": 2,
     "metadata": {},
     "output_type": "execute_result"
    }
   ],
   "source": [
    "# 初始化 Ray 集群\n",
    "import ray\n",
    "ray.init()"
   ]
  },
  {
   "cell_type": "code",
   "execution_count": 3,
   "id": "aa435393-7a91-4352-81e3-11582e097ef2",
   "metadata": {},
   "outputs": [
    {
     "name": "stdout",
     "output_type": "stream",
     "text": [
      "Runtime: 1.33 seconds, data:\n",
      "(0, 'Learning')\n",
      "(1, 'Ray')\n",
      "(2, 'Flexible')\n",
      "(3, 'Distributed')\n",
      "(4, 'Python')\n",
      "(5, 'for')\n",
      "(6, 'Machine')\n",
      "(7, 'Learning')\n"
     ]
    }
   ],
   "source": [
    "# Ray Core API 简单示例\n",
    "import ray \n",
    "\n",
    "import time\n",
    "\n",
    "database = [\n",
    "    \"Learning\", \"Ray\",\n",
    "    \"Flexible\", \"Distributed\", \"Python\", \"for\", \"Machine\", \"Learning\"\n",
    "]\n",
    "\n",
    "def retrieve(item):\n",
    "    time.sleep(item / 10.)\n",
    "    return item, database[item]\n",
    "\n",
    "def print_runtime(input_data, start_time):\n",
    "    print(f'Runtime: {time.time() - start_time:.2f} seconds, data:')\n",
    "    print(*input_data, sep=\"\\n\")\n",
    "\n",
    "# 通过 ray.remote 来装饰函数，后续再通过 .remote 调用该函数\n",
    "# Ray Core 就会自动将该函数放到 Ray 集群执行，用户可以自由地设置并行度而无需担心底层实现\n",
    "@ray.remote\n",
    "def retrieve_task(item):\n",
    "    return retrieve(item)\n",
    "\n",
    "start = time.time()\n",
    "object_references = [\n",
    "    retrieve_task.remote(item) for item in range(8)\n",
    "]\n",
    "data = ray.get(object_references)\n",
    "print_runtime(data, start)"
   ]
  },
  {
   "cell_type": "code",
   "execution_count": 4,
   "id": "615999ca-d4e9-4b29-a8ec-7cfc8c1bf1a9",
   "metadata": {},
   "outputs": [
    {
     "name": "stderr",
     "output_type": "stream",
     "text": [
      "2024-01-15 14:04:10,822\tINFO dataset.py:2488 -- Tip: Use `take_batch()` instead of `take() / show()` to return records in pandas or numpy batch format.\n",
      "2024-01-15 14:04:10,825\tINFO streaming_executor.py:112 -- Executing DAG InputDataBuffer[Input] -> LimitOperator[limit=5]\n",
      "2024-01-15 14:04:10,826\tINFO streaming_executor.py:113 -- Execution config: ExecutionOptions(resource_limits=ExecutionResources(cpu=None, gpu=None, object_store_memory=None), exclude_resources=ExecutionResources(cpu=0, gpu=0, object_store_memory=0), locality_with_output=False, preserve_order=False, actor_locality_enabled=True, verbose_progress=False)\n",
      "2024-01-15 14:04:10,828\tINFO streaming_executor.py:115 -- Tip: For detailed progress reporting, run `ray.data.DataContext.get_current().execution_options.verbose_progress = True`\n"
     ]
    },
    {
     "data": {
      "application/vnd.jupyter.widget-view+json": {
       "model_id": "",
       "version_major": 2,
       "version_minor": 0
      },
      "text/plain": [
       "Running 0:   0%|          | 0/200 [00:00<?, ?it/s]"
      ]
     },
     "metadata": {},
     "output_type": "display_data"
    },
    {
     "name": "stderr",
     "output_type": "stream",
     "text": [
      "2024-01-15 14:04:11,282\tINFO streaming_executor.py:112 -- Executing DAG InputDataBuffer[Input] -> TaskPoolMapOperator[Map(<lambda>)->Filter(<lambda>)]\n",
      "2024-01-15 14:04:11,284\tINFO streaming_executor.py:113 -- Execution config: ExecutionOptions(resource_limits=ExecutionResources(cpu=None, gpu=None, object_store_memory=None), exclude_resources=ExecutionResources(cpu=0, gpu=0, object_store_memory=0), locality_with_output=False, preserve_order=False, actor_locality_enabled=True, verbose_progress=False)\n",
      "2024-01-15 14:04:11,284\tINFO streaming_executor.py:115 -- Tip: For detailed progress reporting, run `ray.data.DataContext.get_current().execution_options.verbose_progress = True`\n"
     ]
    },
    {
     "name": "stdout",
     "output_type": "stream",
     "text": [
      "{'name': '0', 'data': 0}\n",
      "{'name': '1', 'data': 1}\n",
      "{'name': '2', 'data': 2}\n",
      "{'name': '3', 'data': 3}\n",
      "{'name': '4', 'data': 4}\n",
      "None\n"
     ]
    },
    {
     "data": {
      "application/vnd.jupyter.widget-view+json": {
       "model_id": "",
       "version_major": 2,
       "version_minor": 0
      },
      "text/plain": [
       "Running 0:   0%|          | 0/200 [00:00<?, ?it/s]"
      ]
     },
     "metadata": {},
     "output_type": "display_data"
    },
    {
     "name": "stderr",
     "output_type": "stream",
     "text": [
      "2024-01-15 14:04:13,359\tINFO streaming_executor.py:112 -- Executing DAG InputDataBuffer[Input] -> TaskPoolMapOperator[Map(<lambda>)->Filter(<lambda>)] -> LimitOperator[limit=5]\n",
      "2024-01-15 14:04:13,361\tINFO streaming_executor.py:113 -- Execution config: ExecutionOptions(resource_limits=ExecutionResources(cpu=None, gpu=None, object_store_memory=None), exclude_resources=ExecutionResources(cpu=0, gpu=0, object_store_memory=0), locality_with_output=False, preserve_order=False, actor_locality_enabled=True, verbose_progress=False)\n",
      "2024-01-15 14:04:13,361\tINFO streaming_executor.py:115 -- Tip: For detailed progress reporting, run `ray.data.DataContext.get_current().execution_options.verbose_progress = True`\n"
     ]
    },
    {
     "data": {
      "application/vnd.jupyter.widget-view+json": {
       "model_id": "",
       "version_major": 2,
       "version_minor": 0
      },
      "text/plain": [
       "Running 0:   0%|          | 0/200 [00:00<?, ?it/s]"
      ]
     },
     "metadata": {},
     "output_type": "display_data"
    },
    {
     "name": "stdout",
     "output_type": "stream",
     "text": [
      "{'data': 0}\n",
      "{'data': 4}\n",
      "{'data': 16}\n",
      "{'data': 36}\n",
      "{'data': 64}\n"
     ]
    }
   ],
   "source": [
    "# Ray Libraries 简单实例，此处使用 Ray Data ，擅长数据的批处理\n",
    "items = [{\"name\": str(i), \"data\": i} for i in range(10000)]\n",
    "ds = ray.data.from_items(items)\n",
    "print(ds.show(5))\n",
    "\n",
    "# 由于 Ray 的版本更新迭代，英文原版提供的 Ray Data 代码在新版本中无法正常执行，此处有些修改\n",
    "squares = ds.map(lambda x: {\"data\": x[\"data\"] ** 2})\n",
    "evens = squares.filter(lambda x: x[\"data\"] % 2 == 0)\n",
    "evens.count()\n",
    "evens.show(5)"
   ]
  },
  {
   "cell_type": "code",
   "execution_count": 5,
   "id": "b752ddcc-e47c-4d9e-b02f-1806e8dfa83b",
   "metadata": {},
   "outputs": [],
   "source": [
    "# 关闭 Ray 集群\n",
    "ray.shutdown()"
   ]
  }
 ],
 "metadata": {
  "kernelspec": {
   "display_name": "Python 3 (ipykernel)",
   "language": "python",
   "name": "python3"
  },
  "language_info": {
   "codemirror_mode": {
    "name": "ipython",
    "version": 3
   },
   "file_extension": ".py",
   "mimetype": "text/x-python",
   "name": "python",
   "nbconvert_exporter": "python",
   "pygments_lexer": "ipython3",
   "version": "3.9.18"
  }
 },
 "nbformat": 4,
 "nbformat_minor": 5
}
